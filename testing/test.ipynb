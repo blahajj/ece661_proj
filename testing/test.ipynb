{
 "cells": [
  {
   "cell_type": "code",
   "execution_count": 1,
   "metadata": {},
   "outputs": [],
   "source": [
    "from question_generation import *"
   ]
  },
  {
   "cell_type": "code",
   "execution_count": 2,
   "metadata": {},
   "outputs": [],
   "source": [
    "sub_questions = []\n",
    "sub_questions = generate_sub_questions(\"What is the company's growth strategy?\")"
   ]
  },
  {
   "cell_type": "code",
   "execution_count": 3,
   "metadata": {},
   "outputs": [
    {
     "data": {
      "text/plain": [
       "['What specific markets or segments is the company targeting for growth in the upcoming years?',\n",
       " \"What are the key initiatives or projects outlined in the company's 10-K that support its growth strategy?\",\n",
       " 'How does the company plan to leverage its existing resources or capabilities to drive growth?',\n",
       " \"What role do acquisitions or partnerships play in the company's growth strategy as mentioned in the SEC documents?\",\n",
       " \"What financial projections or goals related to growth are provided in the company's 10-K filing?\",\n",
       " 'How does the company assess and manage risks associated with its growth strategy according to its SEC disclosures?']"
      ]
     },
     "execution_count": 3,
     "metadata": {},
     "output_type": "execute_result"
    }
   ],
   "source": [
    "sub_questions"
   ]
  },
  {
   "cell_type": "code",
   "execution_count": 5,
   "metadata": {},
   "outputs": [],
   "source": [
    "from data_preprocessing import *\n",
    "\n",
    "with open('data/10Ks/axp-2024-10k.pdf', \"rb\") as file:\n",
    "    # Preprocess the document\n",
    "    raw_text = preprocess_data(file)"
   ]
  },
  {
   "cell_type": "code",
   "execution_count": 6,
   "metadata": {},
   "outputs": [
    {
     "data": {
      "text/plain": [
       "821074"
      ]
     },
     "execution_count": 6,
     "metadata": {},
     "output_type": "execute_result"
    }
   ],
   "source": [
    "len(raw_text)"
   ]
  }
 ],
 "metadata": {
  "kernelspec": {
   "display_name": "env",
   "language": "python",
   "name": "python3"
  },
  "language_info": {
   "codemirror_mode": {
    "name": "ipython",
    "version": 3
   },
   "file_extension": ".py",
   "mimetype": "text/x-python",
   "name": "python",
   "nbconvert_exporter": "python",
   "pygments_lexer": "ipython3",
   "version": "3.9.6"
  }
 },
 "nbformat": 4,
 "nbformat_minor": 2
}
